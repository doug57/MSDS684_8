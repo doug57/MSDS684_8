{
 "cells": [
  {
   "attachments": {},
   "cell_type": "markdown",
   "metadata": {},
   "source": [
    "## Deep Q Learning: A Deep Reinforcement Learning Algorithm\n",
    "\n",
    "In week six, we computed Q-valeus for the Cartpole problem using a gridded state space that allowed the state space to be stored as a large table in computer memory. When you can enumerate the state space in computer memory, you can compute a so-called tabular solution for the Q-learning problem. The solution is held in computer memory. \n",
    "\n",
    "In week seven, neural networks were shown to be able to approximate functions. This observation suggests using a neural network to approximate the Q-function. Deep learning techniques that approximate the Q-function are called Deep Q-Networks, or DQN.\n",
    "\n",
    "For the neural network problem, we first created a set of data to create the neural network. This presents a problem for the Q-learning problem. We can use the state-action pairs as inputs to the neural network, but we do not have desired outputs. They are incrementally computed using the Q update equation. This means that the Q-values and target values are correlated, and the targets are non-stationary. The neural network architecture and updates become more complex to mitigate these concerns. \n",
    "\n",
    "DQN implementations contain two additional components - an experience replay buffer and a target network. The experience replay buffer holds previously experiences and the target network is used to update the Q-values. This [Medium article](https://arshren.medium.com/deep-q-learning-a-deep-reinforcement-learning-algorithm-f1366cf1b53d) discusses these ideas and provides an implementation of the DQN algorithm using PyTorch. (I have updated the code to work with the newer gymnasium environments.)\n",
    "\n",
    "There are are two things you might consider testing. First, in the fifth cell are a number of hyper parameters. You can change the number of hidden nodes for the neural networks. The batch size for training can also be changed. This is the number of experiences sampled from the replay buffer when learning. Second, in the last cell you can change the number of training episodes. This can be easily found in the code and is currently set to 500. There is a modulus calculation around the print statement near the end of the cell to lessen the ouput to every 20 episodes. Change this as you see fit for your experiments. My experience is that runtimes for training the neural networks is somwhere between 3-10 minutes.\n",
    "\n",
    "One last thing to observe is you CPU usage during training. PyTorch parallilzes the training process across GPUs. But it also does this across your CPU cores. You should see a significant increase in CPU usage for all of the CPU cores on your machine."
   ]
  },
  {
   "attachments": {},
   "cell_type": "markdown",
   "metadata": {},
   "source": [
    "Below are the needed imports."
   ]
  },
  {
   "cell_type": "code",
   "execution_count": 1,
   "metadata": {},
   "outputs": [],
   "source": [
    "# importing required libraries\n",
    "import gym\n",
    "import math\n",
    "import random\n",
    "import numpy as np\n",
    "import matplotlib\n",
    "import matplotlib.pyplot as plt\n",
    "from collections import namedtuple, deque\n",
    "from itertools import count\n",
    "import torch\n",
    "import torch.nn as nn\n",
    "import torch.optim as optim\n",
    "import torch.nn.functional as F\n",
    "from IPython import display"
   ]
  },
  {
   "attachments": {},
   "cell_type": "markdown",
   "metadata": {},
   "source": [
    "This cell sets up the matplotlib environment as well as the PyTorch environment."
   ]
  },
  {
   "cell_type": "code",
   "execution_count": 2,
   "metadata": {},
   "outputs": [
    {
     "name": "stdout",
     "output_type": "stream",
     "text": [
      "cpu\n"
     ]
    }
   ],
   "source": [
    "plt.ion()\n",
    "\n",
    "# setting the device\n",
    "# if gpu is to be used for Mac OS\n",
    "# device = torch.device('mps:0' if torch.backends.mps.is_available() else 'cpu')\n",
    "# if gpu is to be used for cuda\n",
    "device=torch.device('cuda:0' if torch.cuda.is_available() else 'cpu')\n",
    "print(device)"
   ]
  },
  {
   "attachments": {},
   "cell_type": "markdown",
   "metadata": {},
   "source": [
    "This class is used to create the experience replay buffer."
   ]
  },
  {
   "cell_type": "code",
   "execution_count": 3,
   "metadata": {},
   "outputs": [],
   "source": [
    "# structure of the Experiences to store\n",
    "Experience= namedtuple('Experience', \n",
    "('state', 'action', 'next_state', 'reward'))\n",
    "\n",
    "# stores the Experience Replay buffer\n",
    "class ReplayMemory(object):\n",
    "    def __init__(self, capacity):\n",
    "        self.memory= deque([], maxlen=capacity)\n",
    "    \n",
    "    def push(self, *args):\n",
    "        \n",
    "        # Save the Experience into memory \n",
    "        self.memory.append(Experience(*args))\n",
    "    \n",
    "    def sample(self, batch_size):\n",
    "        \n",
    "        #selecting a random batch of Experience for training\n",
    "        return random.sample(self.memory,batch_size)\n",
    "    \n",
    "    def __len__(self):\n",
    "        return len(self.memory)"
   ]
  },
  {
   "attachments": {},
   "cell_type": "markdown",
   "metadata": {},
   "source": [
    "This class is used to create the two neural networks - the policy network and the target network."
   ]
  },
  {
   "cell_type": "code",
   "execution_count": 4,
   "metadata": {},
   "outputs": [],
   "source": [
    "\"\"\"Simple MLP network.\"\"\"\n",
    "class DQN(nn.Module):\n",
    "    \"\"\"\n",
    "        Args:\n",
    "            n_observations: observation/state size of the environment\n",
    "            n_actions: number of discrete actions available in the environment\n",
    "            hidden_size: size of hidden layers\n",
    "        \"\"\"\n",
    "    def __init__(self, n_observations, n_actions, hidden_size):\n",
    "        super(DQN, self).__init__()\n",
    "        self.layer1= nn.Linear(n_observations, hidden_size)\n",
    "        self.layer2= nn.Linear(hidden_size, hidden_size)\n",
    "        self.layer3= nn.Linear( hidden_size, n_actions)\n",
    "    def forward(self,x):\n",
    "        x=F.relu(self.layer1(x))\n",
    "        x=F.relu(self.layer2(x))\n",
    "        return self.layer3(x)"
   ]
  },
  {
   "attachments": {},
   "cell_type": "markdown",
   "metadata": {},
   "source": [
    "These are the hyperparamaters for the DQN."
   ]
  },
  {
   "cell_type": "code",
   "execution_count": 5,
   "metadata": {},
   "outputs": [],
   "source": [
    "BATCH_SIZE = 128      # BATCH_SIZE is the number of Experience sampled from the replay buffer\n",
    "GAMMA = 0.99          # GAMMA is the discount factor as mentioned in the previous section\n",
    "EPSILON_START = 0.9   # EPSILON_START is the starting value of epsilon\n",
    "EPSILON_END = 0.05    # EPSILON_END is the final value of epsilon\n",
    "EPSILON_DECAY = 1000  # EPSILON_DECAY controls the rate of exponential decay of epsilon, higher means a slower decay\n",
    "TAU = 0.005           # TAU is the update rate of the target network\n",
    "LR = 1e-4             # LR is the learning rate of the AdamW optimizer\n",
    "HIDDEN_SIZE=128       # the hidden layers in the DQN"
   ]
  },
  {
   "attachments": {},
   "cell_type": "markdown",
   "metadata": {},
   "source": [
    "This is a funciton to do epsilon greedy. Note that the value of epsilon is not constant. Early on, a larger value of epsilon is used to explore. Later, the value of epsilon decays toward zero. "
   ]
  },
  {
   "cell_type": "code",
   "execution_count": 6,
   "metadata": {},
   "outputs": [],
   "source": [
    "def choose_action(state):\n",
    "    global steps_done\n",
    "    sample= random.random()\n",
    "    epsilon_threshold = EPSILON_END + (EPSILON_START - EPSILON_END) * math.exp(-1. * steps_done / EPSILON_DECAY)\n",
    "    \n",
    "    steps_done+=1\n",
    "    if sample>epsilon_threshold:\n",
    "        # max(1) will return largest column value of each row.\n",
    "        # second column on max result is index of where max element was found\n",
    "        # so we pick action with the larger expected reward.\n",
    "        with torch.no_grad():\n",
    "            return policy_network(state).max(1)[1].view(1,1)\n",
    "    else:\n",
    "        return torch.tensor([[env.action_space.sample()]],device=device, dtype= torch.long )"
   ]
  },
  {
   "attachments": {},
   "cell_type": "markdown",
   "metadata": {},
   "source": [
    "The function is used for plotting the durations of episodes."
   ]
  },
  {
   "cell_type": "code",
   "execution_count": 7,
   "metadata": {},
   "outputs": [],
   "source": [
    "'''\n",
    "Function to plot the durations of episodes, \n",
    "along with an average over the last 100 episodes\n",
    "'''\n",
    "def plot_scores(show_result=False):\n",
    "    plt.figure(1)\n",
    "    duration_t= torch.tensor(episode_duration, dtype= torch.float)\n",
    "    if show_result:\n",
    "        plt.title('Result')\n",
    "    else:\n",
    "        plt.clf()\n",
    "        plt.title('Training...')\n",
    "    \n",
    "    plt.xlabel('Episode')\n",
    "    plt.ylabel('Duration')\n",
    "    plt.plot(duration_t.numpy())\n",
    "    # Take 100 episode averages and plot them too\n",
    "    if len(duration_t) >= 100:\n",
    "        means = duration_t.unfold(0, 100, 1).mean(1).view(-1)\n",
    "        means = torch.cat((torch.zeros(99), means))\n",
    "        plt.plot(means.numpy())\n",
    "    plt.pause(0.001)  # pause a bit so that plots are updated\n",
    "    if not show_result:\n",
    "            display.display(plt.gcf())\n",
    "            display.clear_output(wait=True)\n",
    "    else:\n",
    "            display.display(plt.gcf())"
   ]
  },
  {
   "attachments": {},
   "cell_type": "markdown",
   "metadata": {},
   "source": [
    "This function performs the optimization step of the DQN."
   ]
  },
  {
   "cell_type": "code",
   "execution_count": 8,
   "metadata": {},
   "outputs": [],
   "source": [
    "#function that performs a single step of the optimization\n",
    "def optimize_model():\n",
    "    if len(memory)<BATCH_SIZE:\n",
    "        return\n",
    "    transition= memory.sample(BATCH_SIZE)\n",
    "    \n",
    "    '''\n",
    "    # Transpose the batch and convert the  batch-array of Experience\n",
    "    # to Transition of batch-arrays\n",
    "    '''\n",
    "    batch=Experience(*zip(*transition))\n",
    "    \n",
    "    #Compute a mask of non-final states and concatenate the batch element\n",
    "    \n",
    "    non_final_mask = torch.tensor(tuple(map(lambda s: s is not None,\n",
    "                                          batch.next_state)), device=device, dtype=torch.bool)\n",
    "    non_final_next_states = torch.cat([s for s in batch.next_state\n",
    "                                                if s is not None])\n",
    "    \n",
    "    state_batch=torch.cat(batch.state)\n",
    "    action_batch=torch.cat(batch.action)\n",
    "    reward_batch=torch.cat(batch.reward)\n",
    "    \n",
    "    # Compute Q(s_t, a)\n",
    "    #These are the actions which would've been taken\n",
    "    # for each batch state according to policy_net\n",
    "    state_action_values= policy_network(state_batch).gather(1,action_batch)\n",
    "    \n",
    "    # Compute V(s_{t+1}) for all next states.\n",
    "    # Expected values of actions for non_final_next_states are computed based\n",
    "    # on the \"older\" target_net; selecting their best reward with max(1)[0].\n",
    "    next_state_values=torch.zeros(BATCH_SIZE,device=device)\n",
    "    \n",
    "    with torch.no_grad():\n",
    "        next_state_values[non_final_mask]= target_network(non_final_next_states).max(1)[0]\n",
    "    # Compute the expected Q values\n",
    "    expected_state_action_values= reward_batch + (GAMMA* next_state_values)\n",
    "    \n",
    "    # Compute Huber loss\n",
    "    criterion=nn.SmoothL1Loss()\n",
    "    loss=criterion(state_action_values, expected_state_action_values.unsqueeze(1))\n",
    "    \n",
    "    #optimize the model\n",
    "    optimizer.zero_grad()\n",
    "    loss.backward()\n",
    "    \n",
    "    # In-place gradient clipping\n",
    "    torch.nn.utils.clip_grad_value_(policy_network.parameters(),100)\n",
    "    optimizer.step()"
   ]
  },
  {
   "attachments": {},
   "cell_type": "markdown",
   "metadata": {},
   "source": [
    "This is the main loop for training the DQN. Just above the first for loop the the number of training episodes is set.\n",
    "\n",
    "Note the instatiation of the environment. (For the ambitious, you may be able to change the environment to other gymnasium environments.)\n",
    "\n",
    "Note the instantiation of the policy network, the target network, and the experience replay memory."
   ]
  },
  {
   "cell_type": "code",
   "execution_count": 9,
   "metadata": {},
   "outputs": [
    {
     "name": "stdout",
     "output_type": "stream",
     "text": [
      "Episode 0 Game terminated after 14 steps with reward tensor([15.])\n",
      "Episode 20 Game terminated after 20 steps with reward tensor([21.])\n",
      "Episode 40 Game terminated after 12 steps with reward tensor([13.])\n",
      "Episode 60 Game terminated after 13 steps with reward tensor([14.])\n",
      "Episode 80 Game terminated after 12 steps with reward tensor([13.])\n",
      "Episode 100 Game terminated after 7 steps with reward tensor([8.])\n",
      "Episode 120 Game terminated after 14 steps with reward tensor([15.])\n",
      "Episode 140 Game terminated after 12 steps with reward tensor([13.])\n",
      "Episode 160 Game terminated after 128 steps with reward tensor([129.])\n",
      "Episode 180 Game terminated after 129 steps with reward tensor([130.])\n",
      "Episode 200 Game terminated after 156 steps with reward tensor([157.])\n",
      "Episode 220 Game terminated after 166 steps with reward tensor([167.])\n",
      "Episode 240 Game terminated after 179 steps with reward tensor([180.])\n",
      "Episode 260 Game terminated after 165 steps with reward tensor([166.])\n",
      "Episode 280 Game terminated after 169 steps with reward tensor([170.])\n",
      "Episode 300 Game terminated after 164 steps with reward tensor([165.])\n",
      "Episode 320 Game terminated after 253 steps with reward tensor([254.])\n",
      "Episode 340 Game terminated after 171 steps with reward tensor([172.])\n",
      "Episode 360 Game terminated after 277 steps with reward tensor([278.])\n",
      "Episode 380 Game terminated after 94 steps with reward tensor([95.])\n",
      "Episode 400 Game terminated after 81 steps with reward tensor([82.])\n",
      "Episode 420 Game terminated after 150 steps with reward tensor([151.])\n",
      "Episode 440 Game terminated after 99 steps with reward tensor([100.])\n",
      "Episode 460 Game terminated after 184 steps with reward tensor([185.])\n",
      "Episode 480 Game terminated after 6910 steps with reward tensor([6911.])\n",
      "Complete\n"
     ]
    },
    {
     "data": {
      "image/png": "[encoded data removed]",
      "text/plain": [
       "<Figure size 640x480 with 1 Axes>"
      ]
     },
     "metadata": {},
     "output_type": "display_data"
    },
    {
     "data": {
      "text/plain": [
       "<Figure size 640x480 with 0 Axes>"
      ]
     },
     "metadata": {},
     "output_type": "display_data"
    },
    {
     "data": {
      "text/plain": [
       "<Figure size 640x480 with 0 Axes>"
      ]
     },
     "metadata": {},
     "output_type": "display_data"
    }
   ],
   "source": [
    "\n",
    "env = gym.make('CartPole-v1') ## added by Doug \n",
    "\n",
    "# Get number of actions from gym action space\n",
    "n_actions= env.action_space.n\n",
    "state,_ = env.reset() ## modified by Doug for new gymnasium environment\n",
    "n_observations= len(state)\n",
    "\n",
    "policy_network = DQN(n_observations, n_actions, HIDDEN_SIZE).to(device)\n",
    "target_network = DQN(n_observations, n_actions, HIDDEN_SIZE).to(device)\n",
    "#updates the parameters of the target network  with the parameters of the policy network \n",
    "target_network.load_state_dict(policy_network.state_dict())\n",
    "\n",
    "optimizer=optim.AdamW(policy_network.parameters(), lr=LR, amsgrad=True)\n",
    "memory= ReplayMemory(10000)\n",
    "steps_done=0\n",
    "episode_duration=[]\n",
    "\n",
    "num_episodes = 500 ## number of training episodes to run\n",
    "\n",
    "for i in range(num_episodes):\n",
    "    #At the beginning we reset the environment and \n",
    "    #initialize the state Tensor.\n",
    "    state,_ = env.reset() ## modified by Doug for new gymnasium environment\n",
    "    state=torch.tensor(state, dtype=torch.float32, device=device).unsqueeze(0)\n",
    "    total_reward =0\n",
    "    for t in count():\n",
    "        #sample an action\n",
    "        action = choose_action(state)\n",
    "        #execute it, observe the next screen and the reward \n",
    "        observation, reward, terminated, _, _ = env.step(action.item()) ## modified by Doug for new gymnasium environment\n",
    "        reward = torch.tensor([reward], device=device)\n",
    "        done = terminated \n",
    "\n",
    "        if terminated:\n",
    "            next_state = None\n",
    "        else:\n",
    "            next_state = torch.tensor(observation, dtype=torch.float32, device=device).unsqueeze(0)\n",
    "            \n",
    "        # Store the experience in the memory\n",
    "        memory.push(state, action, next_state, reward)\n",
    "\n",
    "        # Move to the next state\n",
    "        state = next_state\n",
    "        \n",
    "        # Perform one step of the optimization (on the policy network)\n",
    "        #The agent  performs an optimization step on the Policy Network using the stored memory\n",
    "        optimize_model()\n",
    "\n",
    "        '''\n",
    "        The agent will perform a soft update of the Target Network's weights, \n",
    "        with the equation TAU * policy_net_state_dict + (1-TAU) * target_net_state_dict, \n",
    "        this helps to make the Target Network's weights converge to the Policy Network's weights.\n",
    "        '''\n",
    "        # Soft update of the target network's weights\n",
    "        # θ′ ← τ θ + (1 −τ )θ′\n",
    "        #policy_network.state_dict() returns the parameters of the policy network\n",
    "        #target_network.load_state_dict() loads these parameters into the target network.\n",
    "        target_net_state_dict = target_network.state_dict()\n",
    "        policy_net_state_dict = policy_network.state_dict()\n",
    "        for key in policy_net_state_dict:\n",
    "            target_net_state_dict[key] = policy_net_state_dict[key]*TAU + target_net_state_dict[key]*(1-TAU)\n",
    "        target_network.load_state_dict(target_net_state_dict)\n",
    "        total_reward += reward\n",
    "        if done:\n",
    "            episode_duration.append(t + 1)\n",
    "            if i%20 == 0:\n",
    "                print(\"Episode\", i,\"Game terminated after\", t, \"steps with reward\", total_reward)\n",
    "            \n",
    "            break\n",
    "        \n",
    "print('Complete')\n",
    "plot_scores(show_result=True)\n",
    "plt.ioff()\n",
    "plt.show()"
   ]
  },
  {
   "cell_type": "code",
   "execution_count": null,
   "metadata": {},
   "outputs": [],
   "source": []
  }
 ],
 "metadata": {
  "kernelspec": {
   "display_name": "base",
   "language": "python",
   "name": "python3"
  },
  "language_info": {
   "codemirror_mode": {
    "name": "ipython",
    "version": 3
   },
   "file_extension": ".py",
   "mimetype": "text/x-python",
   "name": "python",
   "nbconvert_exporter": "python",
   "pygments_lexer": "ipython3",
   "version": "3.9.16"
  },
  "orig_nbformat": 4
 },
 "nbformat": 4,
 "nbformat_minor": 2
}
